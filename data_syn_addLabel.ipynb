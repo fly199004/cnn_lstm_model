{
 "cells": [
  {
   "cell_type": "markdown",
   "metadata": {},
   "source": [
    "现在经过jiaba分词并同义化的数据保存在\"data_syn.csv\"文件，但只有text一列，\n",
    "而对应的标签则保存在“labels_1.csv”文件的第2列customer_label，如何合并成一个文件，以便后续数据集可以给到模型训练 "
   ]
  },
  {
   "cell_type": "markdown",
   "metadata": {},
   "source": [
    "1. 加载数据\n",
    "首先，需要加载包含文本的data_syn.csv文件和包含标签的labels_1.csv文件。"
   ]
  },
  {
   "cell_type": "code",
   "execution_count": 2,
   "metadata": {},
   "outputs": [
    {
     "name": "stdout",
     "output_type": "stream",
     "text": [
      "Text data loaded:                                                 text\n",
      "0  五点 十多 去 店里 都 没开 灯 很 暗 真的 很 影响 用餐 体验 南昌 吃 感觉 完全...\n",
      "1  朋友 带来 吃 说 霸占 南昌 平价 火锅 悠闲 味道 确实 不赖 四个 女生 加 三次 菜...\n",
      "2                            美味 服务 好 经常 带 小孩 一家人 去 吃\n",
      "3  南昌 几天 经常 大街 上 看到 季季红 广告牌 感觉 应该 本地 比较 有名 火锅 尝尝 ...\n",
      "4  季季红 火锅 食材 新鲜 味道 正宗 锅底 浓郁 调味 恰到好处 服务周到 热情 火锅 爱好...\n",
      "Label data loaded:   sentiment_label customer_label\n",
      "0              负面             负面\n",
      "1              正面             正面\n",
      "2              正面             正面\n",
      "3              正面            NaN\n",
      "4              正面             正面\n"
     ]
    }
   ],
   "source": [
    "import pandas as pd\n",
    "\n",
    "# 加载文本数据\n",
    "text_df = pd.read_csv(\"data_syn.csv\", encoding='utf-8')\n",
    "print(\"Text data loaded:\", text_df.head())\n",
    "\n",
    "# 加载标签数据\n",
    "label_df = pd.read_csv(\"labels_1.csv\", encoding='utf-8')\n",
    "print(\"Label data loaded:\", label_df.head())"
   ]
  },
  {
   "cell_type": "markdown",
   "metadata": {},
   "source": [
    "2. 合并数据\n",
    "如果行是对应的，可以直接将标签列添加到文本数据的DataFrame中。如果行不对应，您需要确保两个文件按某种方式同步，例如通过共同的索引或唯一标识符。"
   ]
  },
  {
   "cell_type": "code",
   "execution_count": 3,
   "metadata": {},
   "outputs": [
    {
     "name": "stdout",
     "output_type": "stream",
     "text": [
      "Combined data sample:                                                 text label\n",
      "0  五点 十多 去 店里 都 没开 灯 很 暗 真的 很 影响 用餐 体验 南昌 吃 感觉 完全...    负面\n",
      "1  朋友 带来 吃 说 霸占 南昌 平价 火锅 悠闲 味道 确实 不赖 四个 女生 加 三次 菜...    正面\n",
      "2                            美味 服务 好 经常 带 小孩 一家人 去 吃    正面\n",
      "3  南昌 几天 经常 大街 上 看到 季季红 广告牌 感觉 应该 本地 比较 有名 火锅 尝尝 ...   NaN\n",
      "4  季季红 火锅 食材 新鲜 味道 正宗 锅底 浓郁 调味 恰到好处 服务周到 热情 火锅 爱好...    正面\n"
     ]
    }
   ],
   "source": [
    "# 假设第2列为标签，根据实际列名调整\n",
    "text_df['label'] = label_df['customer_label']\n",
    "\n",
    "# 查看合并后的数据\n",
    "print(\"Combined data sample:\", text_df.head())"
   ]
  },
  {
   "cell_type": "code",
   "execution_count": 4,
   "metadata": {},
   "outputs": [
    {
     "name": "stdout",
     "output_type": "stream",
     "text": [
      "                                                text label\n",
      "0  五点 十多 去 店里 都 没开 灯 很 暗 真的 很 影响 用餐 体验 南昌 吃 感觉 完全...    负面\n",
      "1  朋友 带来 吃 说 霸占 南昌 平价 火锅 悠闲 味道 确实 不赖 四个 女生 加 三次 菜...    正面\n",
      "2                            美味 服务 好 经常 带 小孩 一家人 去 吃    正面\n",
      "4  季季红 火锅 食材 新鲜 味道 正宗 锅底 浓郁 调味 恰到好处 服务周到 热情 火锅 爱好...    正面\n",
      "5  非常 美味 真的 推荐 吃 都 美味 服务 好 态度 已经 不是 一次 两次 吃 超 喜欢 ...    正面\n"
     ]
    }
   ],
   "source": [
    "# 删除合并后的label为空的行\n",
    "text_df = text_df.dropna(subset=['label'])\n",
    "print(text_df.head())"
   ]
  },
  {
   "cell_type": "markdown",
   "metadata": {},
   "source": [
    "3. 保存合并后的数据\n",
    "将合并后的数据保存到一个新的CSV文件中，以便后续使用。"
   ]
  },
  {
   "cell_type": "code",
   "execution_count": 5,
   "metadata": {},
   "outputs": [
    {
     "name": "stdout",
     "output_type": "stream",
     "text": [
      "Data has been saved to 'combined_data.csv'.\n"
     ]
    }
   ],
   "source": [
    "# 保存到新的CSV文件\n",
    "text_df.to_csv(\"data_syn_with_label.csv\", index=False, encoding='utf-8')\n",
    "print(\"Data has been saved to 'combined_data.csv'.\")"
   ]
  }
 ],
 "metadata": {
  "kernelspec": {
   "display_name": "Python 3",
   "language": "python",
   "name": "python3"
  },
  "language_info": {
   "codemirror_mode": {
    "name": "ipython",
    "version": 3
   },
   "file_extension": ".py",
   "mimetype": "text/x-python",
   "name": "python",
   "nbconvert_exporter": "python",
   "pygments_lexer": "ipython3",
   "version": "3.12.3"
  }
 },
 "nbformat": 4,
 "nbformat_minor": 2
}
