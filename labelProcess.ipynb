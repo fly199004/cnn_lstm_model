{
 "cells": [
  {
   "cell_type": "code",
   "execution_count": 8,
   "metadata": {},
   "outputs": [
    {
     "name": "stdout",
     "output_type": "stream",
     "text": [
      "0        五点一十多去的店里，都没开什么灯，很暗，真的很影响用餐体验，跟我在南昌吃的感觉完全不同。我用...\n",
      "1        朋友带来吃的，说是霸占了南昌的平价火锅[悠闲] 味道确实不赖，四个女生加了三次菜，其中是三份...\n",
      "2                                        好吃，服务好经常带小孩一家人去吃，\n",
      "3        来南昌几天，经常在大街上看到季季红的广告牌，感觉应该是本地比较有名的火锅??，就来尝尝啦 [...\n",
      "4          季季红火锅，食材新鲜，味道正宗，锅底浓郁，调味恰到好处，服务周到热情，是火锅爱好者的不错选择。\n",
      "                               ...                        \n",
      "10028    第一次去吃结果就踩雷了  猪脑花是冰冻的  牛肉丸脆皮肠也是冰冻的好歹你也冲一下水在给我上呀...\n",
      "10029    上菜很慢很慢。吃到最后还有菜没上齐 而且分量比其他门店小 真的很无语吃过这么久上菜最慢最慢的...\n",
      "10030    说句实话 现在服务越来越差 点了个虾滑 我不会下 以前吃喊服务员都会帮忙下 今天我过去吃 吃...\n",
      "10031                   口味一般 环境一般 服务态度很差  在南昌吃季季红体验感最差的一次了\n",
      "10032    跨年去他们家吃火锅楼下只有方桌了，我们就两个人表示不想坐方桌，第一个服务员告知我们说楼上没有...\n",
      "Name: text, Length: 10033, dtype: object\n",
      "0                              点餐问题(负面)\n",
      "1                            菜品其他分类(正面)\n",
      "2                            服务整体环节(正面)\n",
      "3                                   NaN\n",
      "4        口味好(正面), 服务整体环节 (正面), 食材好 (正面)\n",
      "                      ...              \n",
      "10028                           食材差(负面)\n",
      "10029                          出餐问题(负面)\n",
      "10030                        服务整体问题(负面)\n",
      "10031                        服务整体问题(负面)\n",
      "10032                        迎宾排队问题(负面)\n",
      "Name: tags, Length: 10033, dtype: object\n"
     ]
    }
   ],
   "source": [
    "import pandas as pd\n",
    "df = pd.read_csv('jijihong.csv', encoding='utf-8')\n",
    "print(df['text'])\n",
    "print(df['tags'])"
   ]
  },
  {
   "cell_type": "code",
   "execution_count": 9,
   "metadata": {},
   "outputs": [
    {
     "name": "stdout",
     "output_type": "stream",
     "text": [
      "                             tags customer_label\n",
      "0                        点餐问题(负面)             负面\n",
      "1                      菜品其他分类(正面)             正面\n",
      "2                      服务整体环节(正面)             正面\n",
      "3                             NaN           None\n",
      "4  口味好(正面), 服务整体环节 (正面), 食材好 (正面)             正面\n"
     ]
    }
   ],
   "source": [
    "# 给出正负面\n",
    "df['customer_label'] = df['tags'].apply(lambda x: '正面' if '正面' in str(x) else ('负面' if '负面' in str(x) else None))\n",
    "\n",
    "# 打印出修改后的部分数据，以确认customer_label列已正确生成\n",
    "print(df[['tags', 'customer_label']].head())"
   ]
  },
  {
   "cell_type": "code",
   "execution_count": 10,
   "metadata": {},
   "outputs": [],
   "source": [
    "df[['tags', 'customer_label']].to_csv('customer_label.csv', index=False, encoding='utf-8-sig')"
   ]
  },
  {
   "cell_type": "code",
   "execution_count": 11,
   "metadata": {},
   "outputs": [],
   "source": [
    "#读取sentiment_data.csv里面的数据，将里面的sentiment_label这列数据提取出来，\n",
    "# 与customer_label.csv文件中的customer_label数据保存至同一文件 \n",
    "df_sentiment = pd.read_csv('sentiment_data.csv', encoding='utf-8')\n",
    "sentiment_label = df_sentiment['sentiment_label']\n",
    "customer_label = df['customer_label']\n",
    "# 创建一个新的DataFrame来保存合并后的列\n",
    "df_labels = pd.DataFrame({\n",
    "    'sentiment_label': sentiment_label,\n",
    "    'customer_label': customer_label\n",
    "})\n",
    "\n",
    "# 保存新的DataFrame到CSV文件\n",
    "df_labels.to_csv('labels_1.csv', index=False, encoding='utf-8-sig')"
   ]
  },
  {
   "cell_type": "markdown",
   "metadata": {},
   "source": [
    "如果客户标签为空，则删除该行数据；如果2个标签相同 ，则加1；最后计算标签相同率是多少"
   ]
  },
  {
   "cell_type": "code",
   "execution_count": 12,
   "metadata": {},
   "outputs": [
    {
     "name": "stdout",
     "output_type": "stream",
     "text": [
      "删除前的数据行数：10033\n",
      "删除前的数据行数：7967\n",
      "标签正确率为: 90.90%\n"
     ]
    }
   ],
   "source": [
    "# 初始化计数器\n",
    "i = 0\n",
    "# 删除 customer_label 为空的数据行\n",
    "print(\"删除前的数据行数：\"+str(len(df_labels)))\n",
    "df_labels.dropna(subset=['customer_label'], inplace=True)\n",
    "print(\"删除前的数据行数：\"+str(len(df_labels)))\n",
    "\n",
    "# 计数两个标签相同的行数\n",
    "for index, row in df_labels.iterrows():\n",
    "    if row['customer_label'] == row['sentiment_label']:\n",
    "        i += 1\n",
    "\n",
    "# 计算标签相同的正确率\n",
    "correct_rate = i / len(df_labels)\n",
    "print(f\"标签正确率为: {correct_rate:.2%}\")"
   ]
  }
 ],
 "metadata": {
  "kernelspec": {
   "display_name": "Python 3",
   "language": "python",
   "name": "python3"
  },
  "language_info": {
   "codemirror_mode": {
    "name": "ipython",
    "version": 3
   },
   "file_extension": ".py",
   "mimetype": "text/x-python",
   "name": "python",
   "nbconvert_exporter": "python",
   "pygments_lexer": "ipython3",
   "version": "3.12.3"
  }
 },
 "nbformat": 4,
 "nbformat_minor": 2
}
